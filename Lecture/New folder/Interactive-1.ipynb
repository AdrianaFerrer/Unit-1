{
 "cells": [
  {
   "cell_type": "markdown",
   "metadata": {},
   "source": [
    "Connected to .venv (Python 3.13.0)"
   ]
  },
  {
   "cell_type": "code",
   "execution_count": null,
   "id": "36b240fe-a524-4447-b2a9-397acf132e33",
   "metadata": {},
   "outputs": [
    {
     "ename": "NameError",
     "evalue": "name 'cars' is not defined",
     "output_type": "error",
     "traceback": [
      "\u001b[1;31m---------------------------------------------------------------------------\u001b[0m",
      "\u001b[1;31mNameError\u001b[0m                                 Traceback (most recent call last)",
      "File \u001b[1;32mc:\\DATA 475\\Unit 1\\Lecture\\03_list_operations.py:3\u001b[0m\n\u001b[0;32m      1\u001b[0m \u001b[39m# %%\u001b[39;00m\n\u001b[0;32m      2\u001b[0m \u001b[39m# Use the len() method to return the length of a list\u001b[39;00m\n\u001b[1;32m----> 3\u001b[0m \u001b[39mprint\u001b[39m(\u001b[39mf\u001b[39m\u001b[39m'\u001b[39m\u001b[39mNumber of cars: \u001b[39m\u001b[39m{\u001b[39;00m\u001b[39mlen\u001b[39m(cars)\u001b[39m}\u001b[39;00m\u001b[39m'\u001b[39m)\n",
      "\u001b[1;31mNameError\u001b[0m: name 'cars' is not defined"
     ]
    }
   ],
   "source": [
    "# Use the len() method to return the length of a list\n",
    "print(f'Number of cars: {len(cars)}')"
   ]
  },
  {
   "cell_type": "code",
   "execution_count": null,
   "id": "6128fa50-53ac-4e13-af1d-2e2d2ad8629c",
   "metadata": {},
   "outputs": [],
   "source": [
    "cars = ['Honda', 'Ford', 'Tesla', 'BMW', 'GMC']"
   ]
  },
  {
   "cell_type": "code",
   "execution_count": null,
   "id": "1f7f25bf-f419-4b2c-b402-7d626ca0ce11",
   "metadata": {},
   "outputs": [
    {
     "name": "stdout",
     "output_type": "stream",
     "text": [
      "Number of cars: 5\n"
     ]
    }
   ],
   "source": [
    "# Use the len() method to return the length of a list\n",
    "print(f'Number of cars: {len(cars)}')"
   ]
  },
  {
   "cell_type": "code",
   "execution_count": null,
   "id": "f64c614d-4cf4-4162-89e4-6e9fb18c78cf",
   "metadata": {},
   "outputs": [
    {
     "name": "stdout",
     "output_type": "stream",
     "text": [
      "7\n",
      "12\n",
      "-4\n",
      "31.2\n"
     ]
    }
   ],
   "source": [
    "# Operations over list\n",
    "values = [5, 4, -4, 8.9, -2.5, 12, 7.8]\n",
    "print(len(values))\n",
    "print(max(values))\n",
    "print(min(values))\n",
    "print(sum(values))"
   ]
  },
  {
   "cell_type": "code",
   "execution_count": null,
   "id": "a6eb8ba0-9079-4b3b-9254-be2c70f12066",
   "metadata": {},
   "outputs": [
    {
     "name": "stdout",
     "output_type": "stream",
     "text": [
      "First car is Honda\n",
      "First car is GMC\n"
     ]
    }
   ],
   "source": [
    "# Refer to a list element by referring to the index number (0-based)\n",
    "print(f'First car is {cars[0]}')\n",
    "print(f'First car is {cars[4]}')"
   ]
  },
  {
   "cell_type": "code",
   "execution_count": null,
   "id": "fe20f106-13a7-4aa7-9e1b-eeda0183328e",
   "metadata": {},
   "outputs": [
    {
     "name": "stdout",
     "output_type": "stream",
     "text": [
      "First car is Honda\n",
      "First car is BMW\n",
      "First car is GMC\n"
     ]
    }
   ],
   "source": [
    "# Refer to a list element by referring to the index number (0-based)\n",
    "print(f'First car is {cars[0]}')\n",
    "print(f'First car is {cars[3]}')\n",
    "\n",
    "print(f'First car is {cars[len(cars)-1]}')"
   ]
  },
  {
   "cell_type": "code",
   "execution_count": null,
   "id": "c21b047a-4d69-41cb-9303-cfe4487bdb4c",
   "metadata": {},
   "outputs": [
    {
     "name": "stdout",
     "output_type": "stream",
     "text": [
      "First car is Honda\n",
      "First car is BMW\n",
      "First car is GMC\n",
      "First car is GMC\n"
     ]
    }
   ],
   "source": [
    "# Refer to a list element by referring to the index number (0-based)\n",
    "print(f'First car is {cars[0]}')\n",
    "print(f'First car is {cars[3]}')\n",
    "\n",
    "print(f'First car is {cars[len(cars)-1]}') # to print the last item if I don't know it\n",
    "print(f'First car is {cars[-1]}')  # to print last car"
   ]
  },
  {
   "cell_type": "code",
   "execution_count": null,
   "id": "71b2cdce-9b80-417a-82d5-169b9321f8b6",
   "metadata": {},
   "outputs": [
    {
     "name": "stdout",
     "output_type": "stream",
     "text": [
      "First car is Honda\n",
      "First car is BMW\n",
      "First car is GMC\n",
      "First car is GMC\n",
      "First car is BMW\n"
     ]
    }
   ],
   "source": [
    "# Refer to a list element by referring to the index number (0-based)\n",
    "print(f'First car is {cars[0]}')\n",
    "print(f'First car is {cars[3]}')\n",
    "\n",
    "print(f'First car is {cars[len(cars)-1]}') # to print the last item if I don't know it\n",
    "print(f'First car is {cars[-1]}')  # to print last car\n",
    "print(f'First car is {cars[-2]}')"
   ]
  },
  {
   "cell_type": "code",
   "execution_count": null,
   "id": "83547336-9d9f-4b80-af6a-7e0a15d333ca",
   "metadata": {},
   "outputs": [],
   "source": [
    "# List Comprehension\n",
    "terms = 'Advanced Concepts in Data Analytics'"
   ]
  },
  {
   "cell_type": "code",
   "execution_count": null,
   "id": "3c89071b-93aa-4e24-a692-ea2797e5b5ea",
   "metadata": {},
   "outputs": [
    {
     "name": "stdout",
     "output_type": "stream",
     "text": [
      "['A', 'd', 'v', 'a', 'n', 'c', 'e', 'd', ' ', 'C', 'o', 'n', 'c', 'e', 'p', 't', 's', ' ', 'i', 'n', ' ', 'D', 'a', 't', 'a', ' ', 'A', 'n', 'a', 'l', 'y', 't', 'i', 'c', 's']\n"
     ]
    }
   ],
   "source": [
    "# A more Pythonic way to achieve this task is as follow.\n",
    "all_letter = [letter for letter in terms]\n",
    "print(all_letters)"
   ]
  },
  {
   "cell_type": "code",
   "execution_count": null,
   "id": "b53068e1-5625-49f6-9efb-a4feb1e4e21b",
   "metadata": {},
   "outputs": [
    {
     "name": "stdout",
     "output_type": "stream",
     "text": [
      "['A']\n",
      "['A', 'd']\n",
      "['A', 'd', 'v']\n",
      "['A', 'd', 'v', 'a']\n",
      "['A', 'd', 'v', 'a', 'n']\n",
      "['A', 'd', 'v', 'a', 'n', 'c']\n",
      "['A', 'd', 'v', 'a', 'n', 'c', 'e']\n",
      "['A', 'd', 'v', 'a', 'n', 'c', 'e', 'd']\n",
      "['A', 'd', 'v', 'a', 'n', 'c', 'e', 'd', ' ']\n",
      "['A', 'd', 'v', 'a', 'n', 'c', 'e', 'd', ' ', 'C']\n",
      "['A', 'd', 'v', 'a', 'n', 'c', 'e', 'd', ' ', 'C', 'o']\n",
      "['A', 'd', 'v', 'a', 'n', 'c', 'e', 'd', ' ', 'C', 'o', 'n']\n",
      "['A', 'd', 'v', 'a', 'n', 'c', 'e', 'd', ' ', 'C', 'o', 'n', 'c']\n",
      "['A', 'd', 'v', 'a', 'n', 'c', 'e', 'd', ' ', 'C', 'o', 'n', 'c', 'e']\n",
      "['A', 'd', 'v', 'a', 'n', 'c', 'e', 'd', ' ', 'C', 'o', 'n', 'c', 'e', 'p']\n",
      "['A', 'd', 'v', 'a', 'n', 'c', 'e', 'd', ' ', 'C', 'o', 'n', 'c', 'e', 'p', 't']\n",
      "['A', 'd', 'v', 'a', 'n', 'c', 'e', 'd', ' ', 'C', 'o', 'n', 'c', 'e', 'p', 't', 's']\n",
      "['A', 'd', 'v', 'a', 'n', 'c', 'e', 'd', ' ', 'C', 'o', 'n', 'c', 'e', 'p', 't', 's', ' ']\n",
      "['A', 'd', 'v', 'a', 'n', 'c', 'e', 'd', ' ', 'C', 'o', 'n', 'c', 'e', 'p', 't', 's', ' ', 'i']\n",
      "['A', 'd', 'v', 'a', 'n', 'c', 'e', 'd', ' ', 'C', 'o', 'n', 'c', 'e', 'p', 't', 's', ' ', 'i', 'n']\n",
      "['A', 'd', 'v', 'a', 'n', 'c', 'e', 'd', ' ', 'C', 'o', 'n', 'c', 'e', 'p', 't', 's', ' ', 'i', 'n', ' ']\n",
      "['A', 'd', 'v', 'a', 'n', 'c', 'e', 'd', ' ', 'C', 'o', 'n', 'c', 'e', 'p', 't', 's', ' ', 'i', 'n', ' ', 'D']\n",
      "['A', 'd', 'v', 'a', 'n', 'c', 'e', 'd', ' ', 'C', 'o', 'n', 'c', 'e', 'p', 't', 's', ' ', 'i', 'n', ' ', 'D', 'a']\n",
      "['A', 'd', 'v', 'a', 'n', 'c', 'e', 'd', ' ', 'C', 'o', 'n', 'c', 'e', 'p', 't', 's', ' ', 'i', 'n', ' ', 'D', 'a', 't']\n",
      "['A', 'd', 'v', 'a', 'n', 'c', 'e', 'd', ' ', 'C', 'o', 'n', 'c', 'e', 'p', 't', 's', ' ', 'i', 'n', ' ', 'D', 'a', 't', 'a']\n",
      "['A', 'd', 'v', 'a', 'n', 'c', 'e', 'd', ' ', 'C', 'o', 'n', 'c', 'e', 'p', 't', 's', ' ', 'i', 'n', ' ', 'D', 'a', 't', 'a', ' ']\n",
      "['A', 'd', 'v', 'a', 'n', 'c', 'e', 'd', ' ', 'C', 'o', 'n', 'c', 'e', 'p', 't', 's', ' ', 'i', 'n', ' ', 'D', 'a', 't', 'a', ' ', 'A']\n",
      "['A', 'd', 'v', 'a', 'n', 'c', 'e', 'd', ' ', 'C', 'o', 'n', 'c', 'e', 'p', 't', 's', ' ', 'i', 'n', ' ', 'D', 'a', 't', 'a', ' ', 'A', 'n']\n",
      "['A', 'd', 'v', 'a', 'n', 'c', 'e', 'd', ' ', 'C', 'o', 'n', 'c', 'e', 'p', 't', 's', ' ', 'i', 'n', ' ', 'D', 'a', 't', 'a', ' ', 'A', 'n', 'a']\n",
      "['A', 'd', 'v', 'a', 'n', 'c', 'e', 'd', ' ', 'C', 'o', 'n', 'c', 'e', 'p', 't', 's', ' ', 'i', 'n', ' ', 'D', 'a', 't', 'a', ' ', 'A', 'n', 'a', 'l']\n",
      "['A', 'd', 'v', 'a', 'n', 'c', 'e', 'd', ' ', 'C', 'o', 'n', 'c', 'e', 'p', 't', 's', ' ', 'i', 'n', ' ', 'D', 'a', 't', 'a', ' ', 'A', 'n', 'a', 'l', 'y']\n",
      "['A', 'd', 'v', 'a', 'n', 'c', 'e', 'd', ' ', 'C', 'o', 'n', 'c', 'e', 'p', 't', 's', ' ', 'i', 'n', ' ', 'D', 'a', 't', 'a', ' ', 'A', 'n', 'a', 'l', 'y', 't']\n",
      "['A', 'd', 'v', 'a', 'n', 'c', 'e', 'd', ' ', 'C', 'o', 'n', 'c', 'e', 'p', 't', 's', ' ', 'i', 'n', ' ', 'D', 'a', 't', 'a', ' ', 'A', 'n', 'a', 'l', 'y', 't', 'i']\n",
      "['A', 'd', 'v', 'a', 'n', 'c', 'e', 'd', ' ', 'C', 'o', 'n', 'c', 'e', 'p', 't', 's', ' ', 'i', 'n', ' ', 'D', 'a', 't', 'a', ' ', 'A', 'n', 'a', 'l', 'y', 't', 'i', 'c']\n",
      "['A', 'd', 'v', 'a', 'n', 'c', 'e', 'd', ' ', 'C', 'o', 'n', 'c', 'e', 'p', 't', 's', ' ', 'i', 'n', ' ', 'D', 'a', 't', 'a', ' ', 'A', 'n', 'a', 'l', 'y', 't', 'i', 'c', 's']\n"
     ]
    }
   ],
   "source": [
    "# Example 1 - get all letters in a string and store them in a list\n",
    "#find any letter in the string and append the letters in a list\n",
    "all_letters = []\n",
    "for letter in terms:\n",
    "    all_letters.append(letter)  \n",
    "    print(all_letters)"
   ]
  },
  {
   "cell_type": "code",
   "execution_count": null,
   "id": "bba919d9-6172-41b2-87da-016d20d4a385",
   "metadata": {},
   "outputs": [
    {
     "name": "stdout",
     "output_type": "stream",
     "text": [
      "['A', 'd', 'v', 'n', 'c', 'd', ' ', 'C', 'n', 'c', 'p', 't', 's', ' ', 'n', ' ', 'D', 't', ' ', 'A', 'n', 'l', 'y', 't', 'c', 's']\n"
     ]
    }
   ],
   "source": [
    "# Example 2 - get all non-vowel letters in a string and store in a list\n",
    "vowels = 'aeiou'\n",
    "non_vowel_letters = [letter for letter in terms if letter not in vowels]\n",
    "print(non_vowel_letters)"
   ]
  },
  {
   "cell_type": "code",
   "execution_count": null,
   "id": "7aabb9b1-e8fa-4a4e-aadc-c058e8daf28a",
   "metadata": {},
   "outputs": [
    {
     "name": "stdout",
     "output_type": "stream",
     "text": [
      "['A', 'd', 'v', 'a', 'n', 'c', 'e', 'd', ' ', 'C', 'o', 'n', 'c', 'e', 'p', 't', 's', ' ', 'i', 'n', ' ', 'D', 'a', 't', 'a', ' ', 'A', 'n', 'a', 'l', 'y', 't', 'i', 'c', 's']\n"
     ]
    }
   ],
   "source": [
    "# Example 1 - get all letters in a string and store them in a list\n",
    "#find any letter in the string and append the letters in a list\n",
    "all_letters = []\n",
    "for letter in terms:\n",
    "    all_letters.append(letter)  \n",
    "print(all_letters)"
   ]
  }
 ],
 "metadata": {
  "kernelspec": {
   "display_name": ".venv",
   "language": "python",
   "name": "python3"
  },
  "language_info": {
   "name": "python",
   "version": "3.13.0"
  }
 },
 "nbformat": 4,
 "nbformat_minor": 2
}
